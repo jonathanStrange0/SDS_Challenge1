{
 "cells": [
  {
   "cell_type": "code",
   "execution_count": 867,
   "metadata": {},
   "outputs": [],
   "source": [
    "import pandas as pd\n",
    "import numpy as np\n",
    "import random\n",
    "from datetime import datetime"
   ]
  },
  {
   "cell_type": "markdown",
   "metadata": {},
   "source": [
    "### Create a dataset for 2016 with 1200 rows, 100 companies, and a row for each. "
   ]
  },
  {
   "cell_type": "markdown",
   "metadata": {},
   "source": [
    "## Build Information About Each Company:"
   ]
  },
  {
   "cell_type": "markdown",
   "metadata": {},
   "source": [
    "#### Each business has a unique ID, a set location, and a set number of employees. Also we are going to add a value to determine the order of magnitude of the revenue the company will be making. Rarely are the revenue amounts different by dignificant orders of magnitude from month to month in an established business. We will first generate that information and store it for use later:"
   ]
  },
  {
   "cell_type": "code",
   "execution_count": 868,
   "metadata": {},
   "outputs": [],
   "source": [
    "def generate_company_info(company_id):\n",
    "    location = random.choices(['A', 'B', 'C', 'D', 'E'], weights=[.25, .20, .10, .05, .04])[0]\n",
    "    number_of_employees = random.randint(10,100)\n",
    "    rev_mag = random.choices([1,2,3,4,5])[0]\n",
    "    return {'company_id':company_id,\n",
    "            'location':location, \n",
    "            'number_of_employees':number_of_employees, \n",
    "            'rev_mag':rev_mag}"
   ]
  },
  {
   "cell_type": "code",
   "execution_count": 869,
   "metadata": {},
   "outputs": [],
   "source": [
    "base_company_info = [generate_company_info(i) for i in range(0,100)]"
   ]
  },
  {
   "cell_type": "code",
   "execution_count": null,
   "metadata": {},
   "outputs": [],
   "source": []
  },
  {
   "cell_type": "code",
   "execution_count": null,
   "metadata": {},
   "outputs": [],
   "source": []
  },
  {
   "cell_type": "code",
   "execution_count": null,
   "metadata": {},
   "outputs": [],
   "source": []
  },
  {
   "cell_type": "markdown",
   "metadata": {},
   "source": [
    "### For the sake of argument, let's assume that these companies have expenses and revenue that are at least in the same order of magnitude most of the time to prevent outrageous combinations of revenue and expenses."
   ]
  },
  {
   "cell_type": "code",
   "execution_count": 850,
   "metadata": {},
   "outputs": [],
   "source": [
    "def generate_revenue(magnitude):\n",
    "    min_rev = 10 ** magnitude\n",
    "    max_rev = (10 ** (magnitude + 1)) - 0.01\n",
    "    return(np.round(random.uniform(min_rev, max_rev),2))\n",
    "\n",
    "def generate_expenses(magnitude):\n",
    "    #Sometimes expenses are significantly lower or greater than revenues.\n",
    "    new_mag = random.choices([magnitude, magnitude - 1, magnitude + 1], weights=[0.9, 0.05, 0.05])[0]\n",
    "    if new_mag >= 5: #stay within dataset sonstraints\n",
    "        max_expenses = 500000.00\n",
    "    else:\n",
    "        max_expenses = (10 ** (new_mag + 1)) - 0.01\n",
    "    min_expenses = 10 ** new_mag\n",
    "    return(np.round(random.uniform(min_expenses, max_expenses),2))"
   ]
  },
  {
   "cell_type": "code",
   "execution_count": 865,
   "metadata": {
    "scrolled": true
   },
   "outputs": [
    {
     "name": "stdout",
     "output_type": "stream",
     "text": [
      "12618.47 47509.7\n"
     ]
    }
   ],
   "source": [
    "# just a little test of the functions\n",
    "print(generate_revenue(4),generate_expenses(4))"
   ]
  },
  {
   "cell_type": "code",
   "execution_count": null,
   "metadata": {},
   "outputs": [],
   "source": []
  },
  {
   "cell_type": "code",
   "execution_count": null,
   "metadata": {},
   "outputs": [],
   "source": []
  },
  {
   "cell_type": "code",
   "execution_count": null,
   "metadata": {},
   "outputs": [],
   "source": []
  },
  {
   "cell_type": "code",
   "execution_count": null,
   "metadata": {},
   "outputs": [],
   "source": []
  },
  {
   "cell_type": "code",
   "execution_count": null,
   "metadata": {},
   "outputs": [],
   "source": []
  },
  {
   "cell_type": "code",
   "execution_count": null,
   "metadata": {},
   "outputs": [],
   "source": []
  }
 ],
 "metadata": {
  "kernelspec": {
   "display_name": "Python 3",
   "language": "python",
   "name": "python3"
  },
  "language_info": {
   "codemirror_mode": {
    "name": "ipython",
    "version": 3
   },
   "file_extension": ".py",
   "mimetype": "text/x-python",
   "name": "python",
   "nbconvert_exporter": "python",
   "pygments_lexer": "ipython3",
   "version": "3.7.3"
  },
  "latex_envs": {
   "LaTeX_envs_menu_present": true,
   "autoclose": false,
   "autocomplete": true,
   "bibliofile": "biblio.bib",
   "cite_by": "apalike",
   "current_citInitial": 1,
   "eqLabelWithNumbers": true,
   "eqNumInitial": 1,
   "hotkeys": {
    "equation": "Ctrl-E",
    "itemize": "Ctrl-I"
   },
   "labels_anchors": false,
   "latex_user_defs": false,
   "report_style_numbering": false,
   "user_envs_cfg": false
  }
 },
 "nbformat": 4,
 "nbformat_minor": 2
}
