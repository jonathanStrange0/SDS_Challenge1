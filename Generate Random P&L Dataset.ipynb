{
 "cells": [
  {
   "cell_type": "code",
   "execution_count": 1,
   "metadata": {},
   "outputs": [],
   "source": [
    "import pandas as pd\n",
    "import numpy as np\n",
    "import random\n",
    "from datetime import datetime"
   ]
  },
  {
   "cell_type": "markdown",
   "metadata": {},
   "source": [
    "### Create a dataset for 2016 with 1200 rows, 100 companies, and a row for each. "
   ]
  },
  {
   "cell_type": "markdown",
   "metadata": {},
   "source": [
    "## Build Information About Each Company:"
   ]
  },
  {
   "cell_type": "markdown",
   "metadata": {},
   "source": [
    "#### Each business has a unique ID, a set location, and a set number of employees. Also we are going to add a value to determine the order of magnitude of the revenue the company will be making. Rarely are the revenue amounts different by dignificant orders of magnitude from month to month in an established business. We will first generate that information and store it for use later:"
   ]
  },
  {
   "cell_type": "code",
   "execution_count": 2,
   "metadata": {},
   "outputs": [],
   "source": [
    "# Start with some stable information abotu each company\n",
    "def generate_company_info(company_id):\n",
    "    location = random.choices(['A', 'B', 'C', 'D', 'E'], weights=[.25, .20, .10, .05, .04])[0]\n",
    "    number_of_employees = random.randint(10,1000)\n",
    "    rev_mag = random.choices([1,2,3,4,5])[0]\n",
    "    return {'CompanyID':company_id,\n",
    "            'Region':location, \n",
    "            'Employees':number_of_employees, \n",
    "            'Rev_Mag':rev_mag}"
   ]
  },
  {
   "cell_type": "code",
   "execution_count": 3,
   "metadata": {},
   "outputs": [],
   "source": [
    "base_company_info = [generate_company_info(i) for i in range(0,100)]\n",
    "base_company_info_df = pd.DataFrame(base_company_info)\n",
    "base_company_info_df.index = base_company_info_df.CompanyID\n",
    "base_company_info_df.drop(columns='CompanyID', inplace=True)"
   ]
  },
  {
   "cell_type": "code",
   "execution_count": 4,
   "metadata": {},
   "outputs": [
    {
     "data": {
      "text/html": [
       "<div>\n",
       "<style scoped>\n",
       "    .dataframe tbody tr th:only-of-type {\n",
       "        vertical-align: middle;\n",
       "    }\n",
       "\n",
       "    .dataframe tbody tr th {\n",
       "        vertical-align: top;\n",
       "    }\n",
       "\n",
       "    .dataframe thead th {\n",
       "        text-align: right;\n",
       "    }\n",
       "</style>\n",
       "<table border=\"1\" class=\"dataframe\">\n",
       "  <thead>\n",
       "    <tr style=\"text-align: right;\">\n",
       "      <th></th>\n",
       "      <th>Employees</th>\n",
       "      <th>Region</th>\n",
       "      <th>Rev_Mag</th>\n",
       "    </tr>\n",
       "    <tr>\n",
       "      <th>CompanyID</th>\n",
       "      <th></th>\n",
       "      <th></th>\n",
       "      <th></th>\n",
       "    </tr>\n",
       "  </thead>\n",
       "  <tbody>\n",
       "    <tr>\n",
       "      <th>0</th>\n",
       "      <td>347</td>\n",
       "      <td>A</td>\n",
       "      <td>4</td>\n",
       "    </tr>\n",
       "    <tr>\n",
       "      <th>1</th>\n",
       "      <td>427</td>\n",
       "      <td>B</td>\n",
       "      <td>5</td>\n",
       "    </tr>\n",
       "    <tr>\n",
       "      <th>2</th>\n",
       "      <td>817</td>\n",
       "      <td>A</td>\n",
       "      <td>3</td>\n",
       "    </tr>\n",
       "    <tr>\n",
       "      <th>3</th>\n",
       "      <td>771</td>\n",
       "      <td>B</td>\n",
       "      <td>3</td>\n",
       "    </tr>\n",
       "    <tr>\n",
       "      <th>4</th>\n",
       "      <td>445</td>\n",
       "      <td>C</td>\n",
       "      <td>3</td>\n",
       "    </tr>\n",
       "  </tbody>\n",
       "</table>\n",
       "</div>"
      ],
      "text/plain": [
       "           Employees Region  Rev_Mag\n",
       "CompanyID                           \n",
       "0                347      A        4\n",
       "1                427      B        5\n",
       "2                817      A        3\n",
       "3                771      B        3\n",
       "4                445      C        3"
      ]
     },
     "execution_count": 4,
     "metadata": {},
     "output_type": "execute_result"
    }
   ],
   "source": [
    "base_company_info_df.head()"
   ]
  },
  {
   "cell_type": "code",
   "execution_count": 5,
   "metadata": {},
   "outputs": [],
   "source": [
    "#Establish the date range we will be indexing with\n",
    "dates = pd.date_range('1/1/2016', periods=12, freq='M') "
   ]
  },
  {
   "cell_type": "code",
   "execution_count": 6,
   "metadata": {},
   "outputs": [
    {
     "data": {
      "text/plain": [
       "DatetimeIndex(['2016-01-31', '2016-02-29', '2016-03-31', '2016-04-30',\n",
       "               '2016-05-31', '2016-06-30', '2016-07-31', '2016-08-31',\n",
       "               '2016-09-30', '2016-10-31', '2016-11-30', '2016-12-31'],\n",
       "              dtype='datetime64[ns]', freq='M')"
      ]
     },
     "execution_count": 6,
     "metadata": {},
     "output_type": "execute_result"
    }
   ],
   "source": [
    "dates"
   ]
  },
  {
   "cell_type": "code",
   "execution_count": 7,
   "metadata": {},
   "outputs": [],
   "source": [
    "#create a multi-dimensional index for future great ideas.\n",
    "index = pd.MultiIndex.from_product([dates, base_company_info_df.index], names=['Date', 'CompanyID'])"
   ]
  },
  {
   "cell_type": "code",
   "execution_count": 8,
   "metadata": {},
   "outputs": [],
   "source": [
    "#initialize the dataframe\n",
    "p_and_l_df = pd.DataFrame([], index=index)"
   ]
  },
  {
   "cell_type": "code",
   "execution_count": 9,
   "metadata": {},
   "outputs": [],
   "source": [
    "# Merge the static data into the empty dataframe we just created\n",
    "p_and_l_df = pd.merge(p_and_l_df, base_company_info_df, how='left', left_index=True, right_index=True)"
   ]
  },
  {
   "cell_type": "code",
   "execution_count": 10,
   "metadata": {
    "scrolled": false
   },
   "outputs": [
    {
     "data": {
      "text/html": [
       "<div>\n",
       "<style scoped>\n",
       "    .dataframe tbody tr th:only-of-type {\n",
       "        vertical-align: middle;\n",
       "    }\n",
       "\n",
       "    .dataframe tbody tr th {\n",
       "        vertical-align: top;\n",
       "    }\n",
       "\n",
       "    .dataframe thead th {\n",
       "        text-align: right;\n",
       "    }\n",
       "</style>\n",
       "<table border=\"1\" class=\"dataframe\">\n",
       "  <thead>\n",
       "    <tr style=\"text-align: right;\">\n",
       "      <th></th>\n",
       "      <th></th>\n",
       "      <th>Employees</th>\n",
       "      <th>Region</th>\n",
       "      <th>Rev_Mag</th>\n",
       "    </tr>\n",
       "    <tr>\n",
       "      <th>Date</th>\n",
       "      <th>CompanyID</th>\n",
       "      <th></th>\n",
       "      <th></th>\n",
       "      <th></th>\n",
       "    </tr>\n",
       "  </thead>\n",
       "  <tbody>\n",
       "    <tr>\n",
       "      <th rowspan=\"10\" valign=\"top\">2016-01-31</th>\n",
       "      <th>0</th>\n",
       "      <td>347</td>\n",
       "      <td>A</td>\n",
       "      <td>4</td>\n",
       "    </tr>\n",
       "    <tr>\n",
       "      <th>1</th>\n",
       "      <td>427</td>\n",
       "      <td>B</td>\n",
       "      <td>5</td>\n",
       "    </tr>\n",
       "    <tr>\n",
       "      <th>2</th>\n",
       "      <td>817</td>\n",
       "      <td>A</td>\n",
       "      <td>3</td>\n",
       "    </tr>\n",
       "    <tr>\n",
       "      <th>3</th>\n",
       "      <td>771</td>\n",
       "      <td>B</td>\n",
       "      <td>3</td>\n",
       "    </tr>\n",
       "    <tr>\n",
       "      <th>4</th>\n",
       "      <td>445</td>\n",
       "      <td>C</td>\n",
       "      <td>3</td>\n",
       "    </tr>\n",
       "    <tr>\n",
       "      <th>5</th>\n",
       "      <td>977</td>\n",
       "      <td>A</td>\n",
       "      <td>5</td>\n",
       "    </tr>\n",
       "    <tr>\n",
       "      <th>6</th>\n",
       "      <td>482</td>\n",
       "      <td>A</td>\n",
       "      <td>1</td>\n",
       "    </tr>\n",
       "    <tr>\n",
       "      <th>7</th>\n",
       "      <td>108</td>\n",
       "      <td>B</td>\n",
       "      <td>1</td>\n",
       "    </tr>\n",
       "    <tr>\n",
       "      <th>8</th>\n",
       "      <td>476</td>\n",
       "      <td>D</td>\n",
       "      <td>4</td>\n",
       "    </tr>\n",
       "    <tr>\n",
       "      <th>9</th>\n",
       "      <td>511</td>\n",
       "      <td>E</td>\n",
       "      <td>5</td>\n",
       "    </tr>\n",
       "  </tbody>\n",
       "</table>\n",
       "</div>"
      ],
      "text/plain": [
       "                      Employees Region  Rev_Mag\n",
       "Date       CompanyID                           \n",
       "2016-01-31 0                347      A        4\n",
       "           1                427      B        5\n",
       "           2                817      A        3\n",
       "           3                771      B        3\n",
       "           4                445      C        3\n",
       "           5                977      A        5\n",
       "           6                482      A        1\n",
       "           7                108      B        1\n",
       "           8                476      D        4\n",
       "           9                511      E        5"
      ]
     },
     "execution_count": 10,
     "metadata": {},
     "output_type": "execute_result"
    }
   ],
   "source": [
    "# Have a peak...\n",
    "p_and_l_df.head(10)"
   ]
  },
  {
   "cell_type": "code",
   "execution_count": 11,
   "metadata": {},
   "outputs": [
    {
     "data": {
      "text/plain": [
       "Employees    347\n",
       "Region         A\n",
       "Rev_Mag        4\n",
       "Name: (2016-01-31 00:00:00, 0), dtype: object"
      ]
     },
     "execution_count": 11,
     "metadata": {},
     "output_type": "execute_result"
    }
   ],
   "source": [
    "p_and_l_df.iloc[0]"
   ]
  },
  {
   "cell_type": "markdown",
   "metadata": {},
   "source": [
    "### Generate monthly revenue, expenses, and profit."
   ]
  },
  {
   "cell_type": "markdown",
   "metadata": {},
   "source": [
    "### For the sake of argument, let's assume that these companies have expenses and revenue that are at least in the same order of magnitude most of the time to prevent outrageous combinations of revenue and expenses."
   ]
  },
  {
   "cell_type": "code",
   "execution_count": 12,
   "metadata": {},
   "outputs": [],
   "source": [
    "def generate_revenue(magnitude):\n",
    "    min_rev = 10 ** magnitude\n",
    "    max_rev = (10 ** (magnitude + 1)) - 0.01\n",
    "    return(np.round(random.uniform(min_rev, max_rev),2))\n",
    "\n",
    "def generate_expenses(magnitude):\n",
    "    #Sometimes expenses are significantly lower or greater than revenues.\n",
    "    new_mag = random.choices([magnitude, magnitude - 1, magnitude + 1], weights=[0.9, 0.05, 0.05])[0]\n",
    "    if new_mag >= 5: #stay within dataset sonstraints\n",
    "        max_expenses = 500000.00\n",
    "    else:\n",
    "        max_expenses = (10 ** (new_mag + 1)) - 0.01\n",
    "    min_expenses = 10 ** new_mag\n",
    "    return(np.round(random.uniform(min_expenses, max_expenses),2))"
   ]
  },
  {
   "cell_type": "code",
   "execution_count": 13,
   "metadata": {},
   "outputs": [
    {
     "name": "stdout",
     "output_type": "stream",
     "text": [
      "74604.47 445340.18\n"
     ]
    }
   ],
   "source": [
    "# just a little test of the functions\n",
    "print(generate_revenue(4),generate_expenses(4))"
   ]
  },
  {
   "cell_type": "code",
   "execution_count": 14,
   "metadata": {},
   "outputs": [],
   "source": [
    "p_and_l_df['Revenue'] = p_and_l_df.Rev_Mag.apply(generate_revenue)\n",
    "p_and_l_df.Revenue.apply(np.round,2)\n",
    "p_and_l_df['Expenses'] = p_and_l_df.Rev_Mag.apply(generate_expenses)\n",
    "p_and_l_df.Expenses.apply(np.round,2)\n",
    "p_and_l_df['Profit'] = p_and_l_df['Revenue'] - p_and_l_df['Expenses']\n",
    "p_and_l_df.Profit.apply(np.round,2)\n",
    "p_and_l_df['LossFlag'] = p_and_l_df['Profit'].apply(lambda x: 1 if x < 0 else 0)"
   ]
  },
  {
   "cell_type": "code",
   "execution_count": 15,
   "metadata": {},
   "outputs": [
    {
     "data": {
      "text/html": [
       "<div>\n",
       "<style scoped>\n",
       "    .dataframe tbody tr th:only-of-type {\n",
       "        vertical-align: middle;\n",
       "    }\n",
       "\n",
       "    .dataframe tbody tr th {\n",
       "        vertical-align: top;\n",
       "    }\n",
       "\n",
       "    .dataframe thead th {\n",
       "        text-align: right;\n",
       "    }\n",
       "</style>\n",
       "<table border=\"1\" class=\"dataframe\">\n",
       "  <thead>\n",
       "    <tr style=\"text-align: right;\">\n",
       "      <th></th>\n",
       "      <th></th>\n",
       "      <th>Employees</th>\n",
       "      <th>Region</th>\n",
       "      <th>Rev_Mag</th>\n",
       "      <th>Revenue</th>\n",
       "      <th>Expenses</th>\n",
       "      <th>Profit</th>\n",
       "      <th>LossFlag</th>\n",
       "    </tr>\n",
       "    <tr>\n",
       "      <th>Date</th>\n",
       "      <th>CompanyID</th>\n",
       "      <th></th>\n",
       "      <th></th>\n",
       "      <th></th>\n",
       "      <th></th>\n",
       "      <th></th>\n",
       "      <th></th>\n",
       "      <th></th>\n",
       "    </tr>\n",
       "  </thead>\n",
       "  <tbody>\n",
       "    <tr>\n",
       "      <th rowspan=\"5\" valign=\"top\">2016-01-31</th>\n",
       "      <th>0</th>\n",
       "      <td>347</td>\n",
       "      <td>A</td>\n",
       "      <td>4</td>\n",
       "      <td>59787.83</td>\n",
       "      <td>35665.13</td>\n",
       "      <td>24122.70</td>\n",
       "      <td>0</td>\n",
       "    </tr>\n",
       "    <tr>\n",
       "      <th>1</th>\n",
       "      <td>427</td>\n",
       "      <td>B</td>\n",
       "      <td>5</td>\n",
       "      <td>839843.11</td>\n",
       "      <td>186981.75</td>\n",
       "      <td>652861.36</td>\n",
       "      <td>0</td>\n",
       "    </tr>\n",
       "    <tr>\n",
       "      <th>2</th>\n",
       "      <td>817</td>\n",
       "      <td>A</td>\n",
       "      <td>3</td>\n",
       "      <td>2947.15</td>\n",
       "      <td>8697.11</td>\n",
       "      <td>-5749.96</td>\n",
       "      <td>1</td>\n",
       "    </tr>\n",
       "    <tr>\n",
       "      <th>3</th>\n",
       "      <td>771</td>\n",
       "      <td>B</td>\n",
       "      <td>3</td>\n",
       "      <td>9831.70</td>\n",
       "      <td>3352.14</td>\n",
       "      <td>6479.56</td>\n",
       "      <td>0</td>\n",
       "    </tr>\n",
       "    <tr>\n",
       "      <th>4</th>\n",
       "      <td>445</td>\n",
       "      <td>C</td>\n",
       "      <td>3</td>\n",
       "      <td>5212.89</td>\n",
       "      <td>7348.36</td>\n",
       "      <td>-2135.47</td>\n",
       "      <td>1</td>\n",
       "    </tr>\n",
       "  </tbody>\n",
       "</table>\n",
       "</div>"
      ],
      "text/plain": [
       "                      Employees Region  Rev_Mag    Revenue   Expenses  \\\n",
       "Date       CompanyID                                                    \n",
       "2016-01-31 0                347      A        4   59787.83   35665.13   \n",
       "           1                427      B        5  839843.11  186981.75   \n",
       "           2                817      A        3    2947.15    8697.11   \n",
       "           3                771      B        3    9831.70    3352.14   \n",
       "           4                445      C        3    5212.89    7348.36   \n",
       "\n",
       "                         Profit  LossFlag  \n",
       "Date       CompanyID                       \n",
       "2016-01-31 0           24122.70         0  \n",
       "           1          652861.36         0  \n",
       "           2           -5749.96         1  \n",
       "           3            6479.56         0  \n",
       "           4           -2135.47         1  "
      ]
     },
     "execution_count": 15,
     "metadata": {},
     "output_type": "execute_result"
    }
   ],
   "source": [
    "p_and_l_df.head()"
   ]
  },
  {
   "cell_type": "markdown",
   "metadata": {},
   "source": [
    "### Define the company valuation:"
   ]
  },
  {
   "cell_type": "code",
   "execution_count": 16,
   "metadata": {},
   "outputs": [],
   "source": [
    "p_and_l_df['YTD_Profit'] = np.nan"
   ]
  },
  {
   "cell_type": "code",
   "execution_count": 17,
   "metadata": {},
   "outputs": [],
   "source": [
    "# This will take a bit to run!\n",
    "for i in range(0,100):\n",
    "    #Calculate the year to date profit for the company\n",
    "    p_and_l_df.loc[(dates,i),'YTD_Profit'] = p_and_l_df.loc[(dates,i),'Profit'].cumsum()\n",
    "    # Determine if a cumulitive 3% of YTD Profit is greater than 10% of YTD Profit, and adjust valuation accordingly\n",
    "    p_and_l_df.loc[(dates,i),'3_%_of_YTD_Profit'] = p_and_l_df.loc[(dates,i),'Profit'].cumsum() * 0.03\n",
    "    p_and_l_df.loc[(dates,i),'10_%_of_YTD_Profit'] = p_and_l_df.loc[(dates,i),'Profit'].cumsum() * 0.10\n",
    "    p_and_l_df.loc[(dates,i),'Sum_of_3_%_of_YTD_Profit'] = p_and_l_df.loc[(dates,i),'3_%_of_YTD_Profit'].cumsum()\n",
    "    p_and_l_df.loc[(dates,i),'Sum_of_3_%_>10_%_of_YTD_Profit'] = p_and_l_df.loc[(dates,i),'Sum_of_3_%_of_YTD_Profit'] > p_and_l_df.loc[(dates,i),'10_%_of_YTD_Profit']\n",
    "    p_and_l_df.loc[(dates,i),'BusinessValuation'] = p_and_l_df.apply((lambda x: x['Sum_of_3_%_of_YTD_Profit'] if x['Sum_of_3_%_>10_%_of_YTD_Profit'] else x['10_%_of_YTD_Profit']), axis=1)\n"
   ]
  },
  {
   "cell_type": "code",
   "execution_count": 18,
   "metadata": {},
   "outputs": [
    {
     "data": {
      "text/plain": [
       "Date        CompanyID\n",
       "2016-01-31  0             2412.0\n",
       "            1            65286.0\n",
       "            2             -172.0\n",
       "            3              648.0\n",
       "            4              -64.0\n",
       "            5            52622.0\n",
       "            6                2.0\n",
       "            7                1.0\n",
       "            8             3078.0\n",
       "            9            16781.0\n",
       "Name: BusinessValuation, dtype: float64"
      ]
     },
     "execution_count": 18,
     "metadata": {},
     "output_type": "execute_result"
    }
   ],
   "source": [
    "# Test what we've done.\n",
    "p_and_l_df.BusinessValuation = p_and_l_df.BusinessValuation.apply(np.round,2)\n",
    "p_and_l_df['BusinessValuation'].head(10)"
   ]
  },
  {
   "cell_type": "markdown",
   "metadata": {},
   "source": [
    "### Determine the Closed Flag for these companies:"
   ]
  },
  {
   "attachments": {},
   "cell_type": "markdown",
   "metadata": {},
   "source": [
    "As the year progresses, a company has a 0.5% chance of going out of business if two of the months have had net losses, and that percentage jumps to 10% if three of the momnths have had net losses."
   ]
  },
  {
   "cell_type": "code",
   "execution_count": 19,
   "metadata": {},
   "outputs": [],
   "source": [
    "# Since we're only talking about 1% of the total records for each item, that's simply 1 value each month from a random entry.\n",
    "# p_and_l_df['ClosedFlag'] = np.nan\n",
    "for i in range(0,100):\n",
    "    #Calculate the year to date sum of the loss flag for each \n",
    "    p_and_l_df.loc[(dates,i),'LossFlagSum'] = p_and_l_df.loc[(dates,i),'LossFlag'].cumsum()\n",
    "    # Roll the dice on the closing status.\n",
    "    p_and_l_df.loc[(dates,i),'ClosedFlag'] = p_and_l_df.apply((lambda x: \n",
    "                                                               random.choices([0,1], weights=[0.995, 0.005])[0] \n",
    "                                                               if x['LossFlagSum'] <= 2 \n",
    "                                                               else random.choices([0,1], weights=[0.90, 0.10])[0]) , axis=1)\n",
    "\n"
   ]
  },
  {
   "cell_type": "code",
   "execution_count": 20,
   "metadata": {},
   "outputs": [],
   "source": [
    "# Also, let's make sure we mark the ClosedFlag = 1 if the business has been closed already!\n",
    "for i in range(0,100):\n",
    "    next_val = None\n",
    "    for d in dates:\n",
    "        if next_val:\n",
    "           p_and_l_df.loc[(d,i),'ClosedFlag'] = next_val \n",
    "        if p_and_l_df.loc[(d,i),'ClosedFlag'] == 1:\n",
    "            next_val = 1\n",
    "            # A company that has been closed no longer has a revenue, expenses, profit, or losses.\n",
    "            p_and_l_df.loc[(d,i),'Revenue'] = np.nan\n",
    "            p_and_l_df.loc[(d,i),'Expenses'] = np.nan\n",
    "            p_and_l_df.loc[(d,i),'Profit'] = np.nan\n",
    "            p_and_l_df.loc[(d,i),'LossFlag'] = np.nan\n",
    "            p_and_l_df.loc[(d,i),'BusinessValuation'] = np.nan\n",
    "        else:\n",
    "            next_val = 0"
   ]
  },
  {
   "cell_type": "markdown",
   "metadata": {},
   "source": [
    "## Add in missing values.\n"
   ]
  },
  {
   "cell_type": "code",
   "execution_count": 21,
   "metadata": {},
   "outputs": [],
   "source": [
    "for d in dates:\n",
    "    p_and_l_df.loc[(d,np.random.randint(0,100)),'Revenue'] = np.nan\n",
    "    p_and_l_df.loc[(d,np.random.randint(0,100)),'Expenses'] = np.nan\n",
    "    p_and_l_df.loc[(d,np.random.randint(0,100)),'Profit'] = np.nan\n",
    "    p_and_l_df.loc[(d,np.random.randint(0,100)),'LossFlag'] = np.nan"
   ]
  },
  {
   "cell_type": "code",
   "execution_count": 22,
   "metadata": {},
   "outputs": [
    {
     "data": {
      "text/plain": [
       "Revenue              199\n",
       "Expenses             200\n",
       "Profit               201\n",
       "LossFlag             199\n",
       "BusinessValuation    189\n",
       "dtype: int64"
      ]
     },
     "execution_count": 22,
     "metadata": {},
     "output_type": "execute_result"
    }
   ],
   "source": [
    "# How many null values do we have now?\n",
    "p_and_l_df[p_and_l_df.columns[p_and_l_df.isnull().any()].tolist()].isnull().sum()\n"
   ]
  },
  {
   "cell_type": "markdown",
   "metadata": {},
   "source": [
    "## Finally, Write the dataset file"
   ]
  },
  {
   "cell_type": "code",
   "execution_count": 23,
   "metadata": {},
   "outputs": [],
   "source": [
    "p_and_l_df[['Revenue', 'Expenses', 'Profit', 'LossFlag', 'Employees', 'Region', 'BusinessValuation', 'ClosedFlag']].to_csv('Profit_and_Loss_Challenge_Dataset.csv')"
   ]
  },
  {
   "cell_type": "code",
   "execution_count": null,
   "metadata": {},
   "outputs": [],
   "source": []
  },
  {
   "cell_type": "code",
   "execution_count": null,
   "metadata": {},
   "outputs": [],
   "source": []
  },
  {
   "cell_type": "code",
   "execution_count": null,
   "metadata": {},
   "outputs": [],
   "source": []
  }
 ],
 "metadata": {
  "kernelspec": {
   "display_name": "Python 3",
   "language": "python",
   "name": "python3"
  },
  "language_info": {
   "codemirror_mode": {
    "name": "ipython",
    "version": 3
   },
   "file_extension": ".py",
   "mimetype": "text/x-python",
   "name": "python",
   "nbconvert_exporter": "python",
   "pygments_lexer": "ipython3",
   "version": "3.7.3"
  },
  "latex_envs": {
   "LaTeX_envs_menu_present": true,
   "autoclose": false,
   "autocomplete": true,
   "bibliofile": "biblio.bib",
   "cite_by": "apalike",
   "current_citInitial": 1,
   "eqLabelWithNumbers": true,
   "eqNumInitial": 1,
   "hotkeys": {
    "equation": "Ctrl-E",
    "itemize": "Ctrl-I"
   },
   "labels_anchors": false,
   "latex_user_defs": false,
   "report_style_numbering": false,
   "user_envs_cfg": false
  }
 },
 "nbformat": 4,
 "nbformat_minor": 2
}
